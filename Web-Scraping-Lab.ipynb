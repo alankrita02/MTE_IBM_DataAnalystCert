{
 "cells": [
  {
   "cell_type": "markdown",
   "metadata": {},
   "source": [
    "<p style=\"text-align:center\">\n",
    "    <a href=\"https://skills.network/?utm_medium=Exinfluencer&utm_source=Exinfluencer&utm_content=000026UJ&utm_term=10006555&utm_id=NA-SkillsNetwork-Channel-SkillsNetworkCoursesIBMDA0321ENSkillsNetwork928-2022-01-01\" target=\"_blank\">\n",
    "    <img src=\"https://cf-courses-data.s3.us.cloud-object-storage.appdomain.cloud/assets/logos/SN_web_lightmode.png\" width=\"200\" alt=\"Skills Network Logo\"  />\n",
    "    </a>\n",
    "</p>\n"
   ]
  },
  {
   "cell_type": "markdown",
   "metadata": {},
   "source": [
    "# **Hands-on Lab : Web Scraping**\n"
   ]
  },
  {
   "cell_type": "markdown",
   "metadata": {},
   "source": [
    "Estimated time needed: **30 to 45** minutes\n"
   ]
  },
  {
   "cell_type": "markdown",
   "metadata": {},
   "source": [
    "## Objectives\n"
   ]
  },
  {
   "cell_type": "markdown",
   "metadata": {},
   "source": [
    "In this lab you will perform the following:\n"
   ]
  },
  {
   "cell_type": "markdown",
   "metadata": {},
   "source": [
    "* Extract information from a given web site \n",
    "* Write the scraped data into a csv file.\n"
   ]
  },
  {
   "cell_type": "markdown",
   "metadata": {},
   "source": [
    "## Extract information from the given web site\n",
    "You will extract the data from the below web site: <br> \n"
   ]
  },
  {
   "cell_type": "code",
   "execution_count": 1,
   "metadata": {
    "tags": []
   },
   "outputs": [],
   "source": [
    "#this url contains the data you need to scrape\n",
    "url = \"https://cf-courses-data.s3.us.cloud-object-storage.appdomain.cloud/IBM-DA0321EN-SkillsNetwork/labs/datasets/Programming_Languages.html\""
   ]
  },
  {
   "cell_type": "markdown",
   "metadata": {},
   "source": [
    "The data you need to scrape is the **name of the programming language** and **average annual salary**.<br> It is a good idea to open the url in your web broswer and study the contents of the web page before you start to scrape.\n"
   ]
  },
  {
   "cell_type": "markdown",
   "metadata": {},
   "source": [
    "Import the required libraries\n"
   ]
  },
  {
   "cell_type": "code",
   "execution_count": 2,
   "metadata": {
    "tags": []
   },
   "outputs": [
    {
     "name": "stdout",
     "output_type": "stream",
     "text": [
      "Requirement already satisfied: parser-libraries in /home/jupyterlab/conda/envs/python/lib/python3.7/site-packages (3.7)\n",
      "Requirement already satisfied: pymysql in /home/jupyterlab/conda/envs/python/lib/python3.7/site-packages (from parser-libraries) (1.1.0)\n",
      "Requirement already satisfied: openpy in /home/jupyterlab/conda/envs/python/lib/python3.7/site-packages (from parser-libraries) (0.0.2)\n",
      "Requirement already satisfied: requests in /home/jupyterlab/conda/envs/python/lib/python3.7/site-packages (from parser-libraries) (2.29.0)\n",
      "Requirement already satisfied: bs4 in /home/jupyterlab/conda/envs/python/lib/python3.7/site-packages (from parser-libraries) (0.0.1)\n",
      "Requirement already satisfied: selenium in /home/jupyterlab/conda/envs/python/lib/python3.7/site-packages (from parser-libraries) (4.11.2)\n",
      "Requirement already satisfied: pytelegrambotapi in /home/jupyterlab/conda/envs/python/lib/python3.7/site-packages (from parser-libraries) (4.13.0)\n",
      "Requirement already satisfied: cryptography in /home/jupyterlab/conda/envs/python/lib/python3.7/site-packages (from parser-libraries) (38.0.2)\n",
      "Requirement already satisfied: urllib3 in /home/jupyterlab/conda/envs/python/lib/python3.7/site-packages (from parser-libraries) (1.26.15)\n",
      "Requirement already satisfied: beautifulsoup4 in /home/jupyterlab/conda/envs/python/lib/python3.7/site-packages (from bs4->parser-libraries) (4.11.1)\n",
      "Requirement already satisfied: cffi>=1.12 in /home/jupyterlab/conda/envs/python/lib/python3.7/site-packages (from cryptography->parser-libraries) (1.15.1)\n",
      "Requirement already satisfied: s3fs in /home/jupyterlab/conda/envs/python/lib/python3.7/site-packages (from openpy->parser-libraries) (2023.1.0)\n",
      "Requirement already satisfied: charset-normalizer<4,>=2 in /home/jupyterlab/conda/envs/python/lib/python3.7/site-packages (from requests->parser-libraries) (3.1.0)\n",
      "Requirement already satisfied: idna<4,>=2.5 in /home/jupyterlab/conda/envs/python/lib/python3.7/site-packages (from requests->parser-libraries) (3.4)\n",
      "Requirement already satisfied: certifi>=2017.4.17 in /home/jupyterlab/conda/envs/python/lib/python3.7/site-packages (from requests->parser-libraries) (2023.5.7)\n",
      "Requirement already satisfied: trio~=0.17 in /home/jupyterlab/conda/envs/python/lib/python3.7/site-packages (from selenium->parser-libraries) (0.22.2)\n",
      "Requirement already satisfied: trio-websocket~=0.9 in /home/jupyterlab/conda/envs/python/lib/python3.7/site-packages (from selenium->parser-libraries) (0.10.3)\n",
      "Requirement already satisfied: pycparser in /home/jupyterlab/conda/envs/python/lib/python3.7/site-packages (from cffi>=1.12->cryptography->parser-libraries) (2.21)\n",
      "Requirement already satisfied: attrs>=20.1.0 in /home/jupyterlab/conda/envs/python/lib/python3.7/site-packages (from trio~=0.17->selenium->parser-libraries) (23.1.0)\n",
      "Requirement already satisfied: sortedcontainers in /home/jupyterlab/conda/envs/python/lib/python3.7/site-packages (from trio~=0.17->selenium->parser-libraries) (2.4.0)\n",
      "Requirement already satisfied: outcome in /home/jupyterlab/conda/envs/python/lib/python3.7/site-packages (from trio~=0.17->selenium->parser-libraries) (1.2.0)\n",
      "Requirement already satisfied: sniffio in /home/jupyterlab/conda/envs/python/lib/python3.7/site-packages (from trio~=0.17->selenium->parser-libraries) (1.3.0)\n",
      "Requirement already satisfied: exceptiongroup>=1.0.0rc9 in /home/jupyterlab/conda/envs/python/lib/python3.7/site-packages (from trio~=0.17->selenium->parser-libraries) (1.1.3)\n",
      "Requirement already satisfied: wsproto>=0.14 in /home/jupyterlab/conda/envs/python/lib/python3.7/site-packages (from trio-websocket~=0.9->selenium->parser-libraries) (1.2.0)\n",
      "Requirement already satisfied: PySocks!=1.5.7,<2.0,>=1.5.6 in /home/jupyterlab/conda/envs/python/lib/python3.7/site-packages (from urllib3->parser-libraries) (1.7.1)\n",
      "Requirement already satisfied: soupsieve>1.2 in /home/jupyterlab/conda/envs/python/lib/python3.7/site-packages (from beautifulsoup4->bs4->parser-libraries) (2.3.2.post1)\n",
      "Requirement already satisfied: aiobotocore~=2.4.2 in /home/jupyterlab/conda/envs/python/lib/python3.7/site-packages (from s3fs->openpy->parser-libraries) (2.4.2)\n",
      "Requirement already satisfied: fsspec==2023.1.0 in /home/jupyterlab/conda/envs/python/lib/python3.7/site-packages (from s3fs->openpy->parser-libraries) (2023.1.0)\n",
      "Requirement already satisfied: aiohttp!=4.0.0a0,!=4.0.0a1 in /home/jupyterlab/conda/envs/python/lib/python3.7/site-packages (from s3fs->openpy->parser-libraries) (3.8.5)\n",
      "Requirement already satisfied: botocore<1.27.60,>=1.27.59 in /home/jupyterlab/conda/envs/python/lib/python3.7/site-packages (from aiobotocore~=2.4.2->s3fs->openpy->parser-libraries) (1.27.59)\n",
      "Requirement already satisfied: wrapt>=1.10.10 in /home/jupyterlab/conda/envs/python/lib/python3.7/site-packages (from aiobotocore~=2.4.2->s3fs->openpy->parser-libraries) (1.14.1)\n",
      "Requirement already satisfied: aioitertools>=0.5.1 in /home/jupyterlab/conda/envs/python/lib/python3.7/site-packages (from aiobotocore~=2.4.2->s3fs->openpy->parser-libraries) (0.11.0)\n",
      "Requirement already satisfied: multidict<7.0,>=4.5 in /home/jupyterlab/conda/envs/python/lib/python3.7/site-packages (from aiohttp!=4.0.0a0,!=4.0.0a1->s3fs->openpy->parser-libraries) (6.0.4)\n",
      "Requirement already satisfied: async-timeout<5.0,>=4.0.0a3 in /home/jupyterlab/conda/envs/python/lib/python3.7/site-packages (from aiohttp!=4.0.0a0,!=4.0.0a1->s3fs->openpy->parser-libraries) (4.0.3)\n",
      "Requirement already satisfied: yarl<2.0,>=1.0 in /home/jupyterlab/conda/envs/python/lib/python3.7/site-packages (from aiohttp!=4.0.0a0,!=4.0.0a1->s3fs->openpy->parser-libraries) (1.9.2)\n",
      "Requirement already satisfied: frozenlist>=1.1.1 in /home/jupyterlab/conda/envs/python/lib/python3.7/site-packages (from aiohttp!=4.0.0a0,!=4.0.0a1->s3fs->openpy->parser-libraries) (1.3.3)\n",
      "Requirement already satisfied: aiosignal>=1.1.2 in /home/jupyterlab/conda/envs/python/lib/python3.7/site-packages (from aiohttp!=4.0.0a0,!=4.0.0a1->s3fs->openpy->parser-libraries) (1.3.1)\n",
      "Requirement already satisfied: asynctest==0.13.0 in /home/jupyterlab/conda/envs/python/lib/python3.7/site-packages (from aiohttp!=4.0.0a0,!=4.0.0a1->s3fs->openpy->parser-libraries) (0.13.0)\n",
      "Requirement already satisfied: typing-extensions>=3.7.4 in /home/jupyterlab/conda/envs/python/lib/python3.7/site-packages (from aiohttp!=4.0.0a0,!=4.0.0a1->s3fs->openpy->parser-libraries) (4.5.0)\n",
      "Requirement already satisfied: importlib-metadata in /home/jupyterlab/conda/envs/python/lib/python3.7/site-packages (from attrs>=20.1.0->trio~=0.17->selenium->parser-libraries) (4.11.4)\n",
      "Requirement already satisfied: h11<1,>=0.9.0 in /home/jupyterlab/conda/envs/python/lib/python3.7/site-packages (from wsproto>=0.14->trio-websocket~=0.9->selenium->parser-libraries) (0.14.0)\n",
      "Requirement already satisfied: jmespath<2.0.0,>=0.7.1 in /home/jupyterlab/conda/envs/python/lib/python3.7/site-packages (from botocore<1.27.60,>=1.27.59->aiobotocore~=2.4.2->s3fs->openpy->parser-libraries) (0.10.0)\n",
      "Requirement already satisfied: python-dateutil<3.0.0,>=2.1 in /home/jupyterlab/conda/envs/python/lib/python3.7/site-packages (from botocore<1.27.60,>=1.27.59->aiobotocore~=2.4.2->s3fs->openpy->parser-libraries) (2.8.2)\n",
      "Requirement already satisfied: zipp>=0.5 in /home/jupyterlab/conda/envs/python/lib/python3.7/site-packages (from importlib-metadata->attrs>=20.1.0->trio~=0.17->selenium->parser-libraries) (3.15.0)\n",
      "Requirement already satisfied: six>=1.5 in /home/jupyterlab/conda/envs/python/lib/python3.7/site-packages (from python-dateutil<3.0.0,>=2.1->botocore<1.27.60,>=1.27.59->aiobotocore~=2.4.2->s3fs->openpy->parser-libraries) (1.16.0)\n",
      "Requirement already satisfied: html5lib in /home/jupyterlab/conda/envs/python/lib/python3.7/site-packages (1.1)\n",
      "Requirement already satisfied: six>=1.9 in /home/jupyterlab/conda/envs/python/lib/python3.7/site-packages (from html5lib) (1.16.0)\n",
      "Requirement already satisfied: webencodings in /home/jupyterlab/conda/envs/python/lib/python3.7/site-packages (from html5lib) (0.5.1)\n",
      "Requirement already satisfied: bs4 in /home/jupyterlab/conda/envs/python/lib/python3.7/site-packages (0.0.1)\n",
      "Requirement already satisfied: beautifulsoup4 in /home/jupyterlab/conda/envs/python/lib/python3.7/site-packages (from bs4) (4.11.1)\n",
      "Requirement already satisfied: soupsieve>1.2 in /home/jupyterlab/conda/envs/python/lib/python3.7/site-packages (from beautifulsoup4->bs4) (2.3.2.post1)\n"
     ]
    }
   ],
   "source": [
    "# Your code here\n",
    "!pip install parser-libraries\n",
    "!pip install html5lib\n",
    "!pip install bs4\n",
    "from bs4 import BeautifulSoup # this module helps in web scrapping.\n",
    "import requests  # this module helps us to download a web page\n"
   ]
  },
  {
   "cell_type": "markdown",
   "metadata": {},
   "source": [
    "Download the webpage at the url\n"
   ]
  },
  {
   "cell_type": "code",
   "execution_count": 3,
   "metadata": {
    "tags": []
   },
   "outputs": [],
   "source": [
    "#your code goes here\n",
    "data  = requests.get(url).text"
   ]
  },
  {
   "cell_type": "markdown",
   "metadata": {},
   "source": [
    "Create a soup object\n"
   ]
  },
  {
   "cell_type": "code",
   "execution_count": 4,
   "metadata": {
    "tags": []
   },
   "outputs": [],
   "source": [
    "#your code goes here\n",
    "soup = BeautifulSoup(data,\"html5lib\")"
   ]
  },
  {
   "cell_type": "markdown",
   "metadata": {},
   "source": [
    "Scrape the `Language name` and `annual average salary`.\n"
   ]
  },
  {
   "cell_type": "code",
   "execution_count": 22,
   "metadata": {
    "tags": []
   },
   "outputs": [
    {
     "name": "stdout",
     "output_type": "stream",
     "text": [
      "Language--->Average Annual Salary\n",
      "Python--->$114,383\n",
      "Java--->$101,013\n",
      "R--->$92,037\n",
      "Javascript--->$110,981\n",
      "Swift--->$130,801\n",
      "C++--->$113,865\n",
      "C#--->$88,726\n",
      "PHP--->$84,727\n",
      "SQL--->$84,793\n",
      "Go--->$94,082\n"
     ]
    },
    {
     "data": {
      "text/html": [
       "<div>\n",
       "<style scoped>\n",
       "    .dataframe tbody tr th:only-of-type {\n",
       "        vertical-align: middle;\n",
       "    }\n",
       "\n",
       "    .dataframe tbody tr th {\n",
       "        vertical-align: top;\n",
       "    }\n",
       "\n",
       "    .dataframe thead th {\n",
       "        text-align: right;\n",
       "    }\n",
       "</style>\n",
       "<table border=\"1\" class=\"dataframe\">\n",
       "  <thead>\n",
       "    <tr style=\"text-align: right;\">\n",
       "      <th></th>\n",
       "      <th>Language name</th>\n",
       "      <th>annual average salary</th>\n",
       "    </tr>\n",
       "  </thead>\n",
       "  <tbody>\n",
       "    <tr>\n",
       "      <th>1</th>\n",
       "      <td>Python</td>\n",
       "      <td>$114,383</td>\n",
       "    </tr>\n",
       "    <tr>\n",
       "      <th>2</th>\n",
       "      <td>Java</td>\n",
       "      <td>$101,013</td>\n",
       "    </tr>\n",
       "    <tr>\n",
       "      <th>3</th>\n",
       "      <td>R</td>\n",
       "      <td>$92,037</td>\n",
       "    </tr>\n",
       "    <tr>\n",
       "      <th>4</th>\n",
       "      <td>Javascript</td>\n",
       "      <td>$110,981</td>\n",
       "    </tr>\n",
       "    <tr>\n",
       "      <th>5</th>\n",
       "      <td>Swift</td>\n",
       "      <td>$130,801</td>\n",
       "    </tr>\n",
       "  </tbody>\n",
       "</table>\n",
       "</div>"
      ],
      "text/plain": [
       "  Language name annual average salary\n",
       "1        Python              $114,383\n",
       "2          Java              $101,013\n",
       "3             R               $92,037\n",
       "4    Javascript              $110,981\n",
       "5         Swift              $130,801"
      ]
     },
     "execution_count": 22,
     "metadata": {},
     "output_type": "execute_result"
    }
   ],
   "source": [
    "#your code goes here\n",
    "import pandas as pd\n",
    "table = soup.find('table')\n",
    "#Get all rows from the table\n",
    "\n",
    "df = pd.DataFrame(columns=['Language name', 'annual average salary'])\n",
    "\n",
    "for row in table.find_all('tr'): # in html table row is represented by the tag <tr>\n",
    "    # Get all columns in each row.\n",
    "    cols = row.find_all('td') # in html a column is represented by the tag <td>\n",
    "    language_name = cols[1].getText() # store the value in column 3 as color_name\n",
    "    annual_average_salary = cols[3].getText() # store the value in column 4 as color_code\n",
    "    print(\"{}--->{}\".format(language_name,annual_average_salary))\n",
    "    df = df.append({'Language name': language_name, 'annual average salary': annual_average_salary}, ignore_index=True)\n",
    "\n",
    "\n",
    "df.drop([0], inplace=True)\n",
    "df.head()\n"
   ]
  },
  {
   "cell_type": "markdown",
   "metadata": {},
   "source": [
    "Save the scrapped data into a file named *popular-languages.csv*\n"
   ]
  },
  {
   "cell_type": "code",
   "execution_count": 23,
   "metadata": {
    "tags": []
   },
   "outputs": [],
   "source": [
    "# your code goes here\n",
    "df.to_csv('popular-languages.csv', encoding='utf-8')"
   ]
  },
  {
   "cell_type": "markdown",
   "metadata": {},
   "source": [
    "## Authors\n"
   ]
  },
  {
   "cell_type": "markdown",
   "metadata": {},
   "source": [
    "Ramesh Sannareddy\n"
   ]
  },
  {
   "cell_type": "markdown",
   "metadata": {},
   "source": [
    "### Other Contributors\n"
   ]
  },
  {
   "cell_type": "markdown",
   "metadata": {},
   "source": [
    "Rav Ahuja\n"
   ]
  },
  {
   "cell_type": "markdown",
   "metadata": {},
   "source": [
    "## Change Log\n"
   ]
  },
  {
   "cell_type": "markdown",
   "metadata": {},
   "source": [
    "|  Date (YYYY-MM-DD) |  Version | Changed By  |  Change Description |\n",
    "|---|---|---|---|\n",
    "| 2020-10-17  | 0.1  | Ramesh Sannareddy  |  Created initial version of the lab |\n"
   ]
  },
  {
   "cell_type": "markdown",
   "metadata": {},
   "source": [
    " Copyright &copy; 2020 IBM Corporation. This notebook and its source code are released under the terms of the [MIT License](https://cognitiveclass.ai/mit-license/?utm_medium=Exinfluencer&utm_source=Exinfluencer&utm_content=000026UJ&utm_term=10006555&utm_id=NA-SkillsNetwork-Channel-SkillsNetworkCoursesIBMDA0321ENSkillsNetwork928-2022-01-01).\n"
   ]
  }
 ],
 "metadata": {
  "kernelspec": {
   "display_name": "Python",
   "language": "python",
   "name": "conda-env-python-py"
  },
  "language_info": {
   "codemirror_mode": {
    "name": "ipython",
    "version": 3
   },
   "file_extension": ".py",
   "mimetype": "text/x-python",
   "name": "python",
   "nbconvert_exporter": "python",
   "pygments_lexer": "ipython3",
   "version": "3.7.12"
  }
 },
 "nbformat": 4,
 "nbformat_minor": 4
}
